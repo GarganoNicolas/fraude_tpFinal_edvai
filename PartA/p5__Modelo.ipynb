{
 "cells": [
  {
   "cell_type": "markdown",
   "metadata": {},
   "source": [
    "# 1) Cargamos los datos 📕"
   ]
  },
  {
   "cell_type": "code",
   "execution_count": 27,
   "metadata": {},
   "outputs": [],
   "source": [
    "import pandas as pd\n",
    "data = pd.read_csv(\"data/ohe_customer_dataset.csv\", sep=',') "
   ]
  },
  {
   "cell_type": "code",
   "execution_count": 28,
   "metadata": {},
   "outputs": [
    {
     "data": {
      "text/html": [
       "<div>\n",
       "<style scoped>\n",
       "    .dataframe tbody tr th:only-of-type {\n",
       "        vertical-align: middle;\n",
       "    }\n",
       "\n",
       "    .dataframe tbody tr th {\n",
       "        vertical-align: top;\n",
       "    }\n",
       "\n",
       "    .dataframe thead th {\n",
       "        text-align: right;\n",
       "    }\n",
       "</style>\n",
       "<table border=\"1\" class=\"dataframe\">\n",
       "  <thead>\n",
       "    <tr style=\"text-align: right;\">\n",
       "      <th></th>\n",
       "      <th>transactionFailed</th>\n",
       "      <th>fraudulent</th>\n",
       "      <th>orderAmount_(9.999, 18.2]</th>\n",
       "      <th>orderAmount_(18.2, 30.0]</th>\n",
       "      <th>orderAmount_(30.0, 39.0]</th>\n",
       "      <th>orderAmount_(39.0, 47.0]</th>\n",
       "      <th>orderAmount_(47.0, 75.0]</th>\n",
       "      <th>orderAmount_desconocido</th>\n",
       "      <th>orderState_failed</th>\n",
       "      <th>orderState_fulfilled</th>\n",
       "      <th>orderState_pending</th>\n",
       "      <th>paymentMethodRegistrationFailure_False</th>\n",
       "      <th>paymentMethodRegistrationFailure_True</th>\n",
       "      <th>paymentMethodType_apple pay</th>\n",
       "      <th>paymentMethodType_bitcoin</th>\n",
       "      <th>paymentMethodType_card</th>\n",
       "      <th>paymentMethodType_paypal</th>\n",
       "      <th>paymentMethodProvider_American Express</th>\n",
       "      <th>paymentMethodProvider_Diners Club / Carte Blanche</th>\n",
       "      <th>paymentMethodProvider_Discover</th>\n",
       "      <th>paymentMethodProvider_JCB 15 digit</th>\n",
       "      <th>paymentMethodProvider_JCB 16 digit</th>\n",
       "      <th>paymentMethodProvider_Maestro</th>\n",
       "      <th>paymentMethodProvider_Mastercard</th>\n",
       "      <th>paymentMethodProvider_VISA 13 digit</th>\n",
       "      <th>paymentMethodProvider_VISA 16 digit</th>\n",
       "      <th>paymentMethodProvider_Voyager</th>\n",
       "      <th>paymentMethodIssuer_Bastion Banks</th>\n",
       "      <th>paymentMethodIssuer_Bulwark Trust Corp.</th>\n",
       "      <th>paymentMethodIssuer_Citizens First Banks</th>\n",
       "      <th>paymentMethodIssuer_Fountain Financial Inc.</th>\n",
       "      <th>paymentMethodIssuer_Grand Credit Corporation</th>\n",
       "      <th>paymentMethodIssuer_Her Majesty Trust</th>\n",
       "      <th>paymentMethodIssuer_His Majesty Bank Corp.</th>\n",
       "      <th>paymentMethodIssuer_Rose Bancshares</th>\n",
       "      <th>paymentMethodIssuer_Solace Banks</th>\n",
       "      <th>paymentMethodIssuer_Vertex Bancorp</th>\n",
       "      <th>paymentMethodIssuer_weird</th>\n",
       "      <th>transactionAmount_(9.999, 21.0]</th>\n",
       "      <th>transactionAmount_(21.0, 34.0]</th>\n",
       "      <th>transactionAmount_(34.0, 45.0]</th>\n",
       "      <th>transactionAmount_(45.0, 75.0]</th>\n",
       "      <th>emailDomain_biz</th>\n",
       "      <th>emailDomain_com</th>\n",
       "      <th>emailDomain_info</th>\n",
       "      <th>emailDomain_net</th>\n",
       "      <th>emailDomain_org</th>\n",
       "      <th>emailDomain_weird</th>\n",
       "      <th>emailProvider_gmail</th>\n",
       "      <th>emailProvider_hotmail</th>\n",
       "      <th>emailProvider_other</th>\n",
       "      <th>emailProvider_weird</th>\n",
       "      <th>emailProvider_yahoo</th>\n",
       "      <th>customerIPAddressSimplified_digits_and_letters</th>\n",
       "      <th>customerIPAddressSimplified_only_letters</th>\n",
       "      <th>sameCity_no</th>\n",
       "      <th>sameCity_unknown</th>\n",
       "      <th>sameCity_yes</th>\n",
       "    </tr>\n",
       "  </thead>\n",
       "  <tbody>\n",
       "    <tr>\n",
       "      <th>0</th>\n",
       "      <td>False</td>\n",
       "      <td>0</td>\n",
       "      <td>1</td>\n",
       "      <td>0</td>\n",
       "      <td>0</td>\n",
       "      <td>0</td>\n",
       "      <td>0</td>\n",
       "      <td>0</td>\n",
       "      <td>0</td>\n",
       "      <td>0</td>\n",
       "      <td>1</td>\n",
       "      <td>0</td>\n",
       "      <td>1</td>\n",
       "      <td>0</td>\n",
       "      <td>0</td>\n",
       "      <td>1</td>\n",
       "      <td>0</td>\n",
       "      <td>0</td>\n",
       "      <td>0</td>\n",
       "      <td>0</td>\n",
       "      <td>0</td>\n",
       "      <td>1</td>\n",
       "      <td>0</td>\n",
       "      <td>0</td>\n",
       "      <td>0</td>\n",
       "      <td>0</td>\n",
       "      <td>0</td>\n",
       "      <td>0</td>\n",
       "      <td>0</td>\n",
       "      <td>1</td>\n",
       "      <td>0</td>\n",
       "      <td>0</td>\n",
       "      <td>0</td>\n",
       "      <td>0</td>\n",
       "      <td>0</td>\n",
       "      <td>0</td>\n",
       "      <td>0</td>\n",
       "      <td>0</td>\n",
       "      <td>1</td>\n",
       "      <td>0</td>\n",
       "      <td>0</td>\n",
       "      <td>0</td>\n",
       "      <td>0</td>\n",
       "      <td>1</td>\n",
       "      <td>0</td>\n",
       "      <td>0</td>\n",
       "      <td>0</td>\n",
       "      <td>0</td>\n",
       "      <td>0</td>\n",
       "      <td>0</td>\n",
       "      <td>0</td>\n",
       "      <td>0</td>\n",
       "      <td>1</td>\n",
       "      <td>0</td>\n",
       "      <td>1</td>\n",
       "      <td>0</td>\n",
       "      <td>0</td>\n",
       "      <td>1</td>\n",
       "    </tr>\n",
       "    <tr>\n",
       "      <th>1</th>\n",
       "      <td>False</td>\n",
       "      <td>1</td>\n",
       "      <td>0</td>\n",
       "      <td>1</td>\n",
       "      <td>0</td>\n",
       "      <td>0</td>\n",
       "      <td>0</td>\n",
       "      <td>0</td>\n",
       "      <td>0</td>\n",
       "      <td>1</td>\n",
       "      <td>0</td>\n",
       "      <td>0</td>\n",
       "      <td>1</td>\n",
       "      <td>0</td>\n",
       "      <td>1</td>\n",
       "      <td>0</td>\n",
       "      <td>0</td>\n",
       "      <td>0</td>\n",
       "      <td>0</td>\n",
       "      <td>0</td>\n",
       "      <td>0</td>\n",
       "      <td>0</td>\n",
       "      <td>0</td>\n",
       "      <td>0</td>\n",
       "      <td>0</td>\n",
       "      <td>1</td>\n",
       "      <td>0</td>\n",
       "      <td>0</td>\n",
       "      <td>0</td>\n",
       "      <td>0</td>\n",
       "      <td>0</td>\n",
       "      <td>0</td>\n",
       "      <td>0</td>\n",
       "      <td>0</td>\n",
       "      <td>0</td>\n",
       "      <td>1</td>\n",
       "      <td>0</td>\n",
       "      <td>0</td>\n",
       "      <td>0</td>\n",
       "      <td>1</td>\n",
       "      <td>0</td>\n",
       "      <td>0</td>\n",
       "      <td>0</td>\n",
       "      <td>1</td>\n",
       "      <td>0</td>\n",
       "      <td>0</td>\n",
       "      <td>0</td>\n",
       "      <td>0</td>\n",
       "      <td>0</td>\n",
       "      <td>0</td>\n",
       "      <td>0</td>\n",
       "      <td>0</td>\n",
       "      <td>1</td>\n",
       "      <td>0</td>\n",
       "      <td>1</td>\n",
       "      <td>1</td>\n",
       "      <td>0</td>\n",
       "      <td>0</td>\n",
       "    </tr>\n",
       "    <tr>\n",
       "      <th>2</th>\n",
       "      <td>False</td>\n",
       "      <td>0</td>\n",
       "      <td>0</td>\n",
       "      <td>0</td>\n",
       "      <td>0</td>\n",
       "      <td>1</td>\n",
       "      <td>0</td>\n",
       "      <td>0</td>\n",
       "      <td>0</td>\n",
       "      <td>1</td>\n",
       "      <td>0</td>\n",
       "      <td>1</td>\n",
       "      <td>0</td>\n",
       "      <td>0</td>\n",
       "      <td>0</td>\n",
       "      <td>1</td>\n",
       "      <td>0</td>\n",
       "      <td>0</td>\n",
       "      <td>0</td>\n",
       "      <td>0</td>\n",
       "      <td>0</td>\n",
       "      <td>0</td>\n",
       "      <td>0</td>\n",
       "      <td>0</td>\n",
       "      <td>0</td>\n",
       "      <td>1</td>\n",
       "      <td>0</td>\n",
       "      <td>0</td>\n",
       "      <td>0</td>\n",
       "      <td>0</td>\n",
       "      <td>0</td>\n",
       "      <td>0</td>\n",
       "      <td>0</td>\n",
       "      <td>0</td>\n",
       "      <td>0</td>\n",
       "      <td>0</td>\n",
       "      <td>1</td>\n",
       "      <td>0</td>\n",
       "      <td>0</td>\n",
       "      <td>0</td>\n",
       "      <td>1</td>\n",
       "      <td>0</td>\n",
       "      <td>0</td>\n",
       "      <td>1</td>\n",
       "      <td>0</td>\n",
       "      <td>0</td>\n",
       "      <td>0</td>\n",
       "      <td>0</td>\n",
       "      <td>0</td>\n",
       "      <td>0</td>\n",
       "      <td>0</td>\n",
       "      <td>0</td>\n",
       "      <td>1</td>\n",
       "      <td>1</td>\n",
       "      <td>0</td>\n",
       "      <td>1</td>\n",
       "      <td>0</td>\n",
       "      <td>0</td>\n",
       "    </tr>\n",
       "    <tr>\n",
       "      <th>3</th>\n",
       "      <td>False</td>\n",
       "      <td>0</td>\n",
       "      <td>0</td>\n",
       "      <td>1</td>\n",
       "      <td>0</td>\n",
       "      <td>0</td>\n",
       "      <td>0</td>\n",
       "      <td>0</td>\n",
       "      <td>0</td>\n",
       "      <td>1</td>\n",
       "      <td>0</td>\n",
       "      <td>1</td>\n",
       "      <td>0</td>\n",
       "      <td>0</td>\n",
       "      <td>0</td>\n",
       "      <td>1</td>\n",
       "      <td>0</td>\n",
       "      <td>0</td>\n",
       "      <td>1</td>\n",
       "      <td>0</td>\n",
       "      <td>0</td>\n",
       "      <td>0</td>\n",
       "      <td>0</td>\n",
       "      <td>0</td>\n",
       "      <td>0</td>\n",
       "      <td>0</td>\n",
       "      <td>0</td>\n",
       "      <td>0</td>\n",
       "      <td>0</td>\n",
       "      <td>0</td>\n",
       "      <td>0</td>\n",
       "      <td>0</td>\n",
       "      <td>0</td>\n",
       "      <td>1</td>\n",
       "      <td>0</td>\n",
       "      <td>0</td>\n",
       "      <td>0</td>\n",
       "      <td>0</td>\n",
       "      <td>0</td>\n",
       "      <td>1</td>\n",
       "      <td>0</td>\n",
       "      <td>0</td>\n",
       "      <td>0</td>\n",
       "      <td>1</td>\n",
       "      <td>0</td>\n",
       "      <td>0</td>\n",
       "      <td>0</td>\n",
       "      <td>0</td>\n",
       "      <td>0</td>\n",
       "      <td>0</td>\n",
       "      <td>0</td>\n",
       "      <td>0</td>\n",
       "      <td>1</td>\n",
       "      <td>1</td>\n",
       "      <td>0</td>\n",
       "      <td>1</td>\n",
       "      <td>0</td>\n",
       "      <td>0</td>\n",
       "    </tr>\n",
       "    <tr>\n",
       "      <th>4</th>\n",
       "      <td>True</td>\n",
       "      <td>1</td>\n",
       "      <td>0</td>\n",
       "      <td>0</td>\n",
       "      <td>0</td>\n",
       "      <td>1</td>\n",
       "      <td>0</td>\n",
       "      <td>0</td>\n",
       "      <td>0</td>\n",
       "      <td>1</td>\n",
       "      <td>0</td>\n",
       "      <td>1</td>\n",
       "      <td>0</td>\n",
       "      <td>0</td>\n",
       "      <td>0</td>\n",
       "      <td>1</td>\n",
       "      <td>0</td>\n",
       "      <td>0</td>\n",
       "      <td>0</td>\n",
       "      <td>0</td>\n",
       "      <td>0</td>\n",
       "      <td>0</td>\n",
       "      <td>0</td>\n",
       "      <td>1</td>\n",
       "      <td>0</td>\n",
       "      <td>0</td>\n",
       "      <td>0</td>\n",
       "      <td>0</td>\n",
       "      <td>0</td>\n",
       "      <td>0</td>\n",
       "      <td>0</td>\n",
       "      <td>0</td>\n",
       "      <td>0</td>\n",
       "      <td>0</td>\n",
       "      <td>0</td>\n",
       "      <td>0</td>\n",
       "      <td>1</td>\n",
       "      <td>0</td>\n",
       "      <td>0</td>\n",
       "      <td>0</td>\n",
       "      <td>1</td>\n",
       "      <td>0</td>\n",
       "      <td>0</td>\n",
       "      <td>1</td>\n",
       "      <td>0</td>\n",
       "      <td>0</td>\n",
       "      <td>0</td>\n",
       "      <td>0</td>\n",
       "      <td>0</td>\n",
       "      <td>0</td>\n",
       "      <td>1</td>\n",
       "      <td>0</td>\n",
       "      <td>0</td>\n",
       "      <td>0</td>\n",
       "      <td>1</td>\n",
       "      <td>1</td>\n",
       "      <td>0</td>\n",
       "      <td>0</td>\n",
       "    </tr>\n",
       "  </tbody>\n",
       "</table>\n",
       "</div>"
      ],
      "text/plain": [
       "   transactionFailed  fraudulent  orderAmount_(9.999, 18.2]  \\\n",
       "0              False           0                          1   \n",
       "1              False           1                          0   \n",
       "2              False           0                          0   \n",
       "3              False           0                          0   \n",
       "4               True           1                          0   \n",
       "\n",
       "   orderAmount_(18.2, 30.0]  orderAmount_(30.0, 39.0]  \\\n",
       "0                         0                         0   \n",
       "1                         1                         0   \n",
       "2                         0                         0   \n",
       "3                         1                         0   \n",
       "4                         0                         0   \n",
       "\n",
       "   orderAmount_(39.0, 47.0]  orderAmount_(47.0, 75.0]  \\\n",
       "0                         0                         0   \n",
       "1                         0                         0   \n",
       "2                         1                         0   \n",
       "3                         0                         0   \n",
       "4                         1                         0   \n",
       "\n",
       "   orderAmount_desconocido  orderState_failed  orderState_fulfilled  \\\n",
       "0                        0                  0                     0   \n",
       "1                        0                  0                     1   \n",
       "2                        0                  0                     1   \n",
       "3                        0                  0                     1   \n",
       "4                        0                  0                     1   \n",
       "\n",
       "   orderState_pending  paymentMethodRegistrationFailure_False  \\\n",
       "0                   1                                       0   \n",
       "1                   0                                       0   \n",
       "2                   0                                       1   \n",
       "3                   0                                       1   \n",
       "4                   0                                       1   \n",
       "\n",
       "   paymentMethodRegistrationFailure_True  paymentMethodType_apple pay  \\\n",
       "0                                      1                            0   \n",
       "1                                      1                            0   \n",
       "2                                      0                            0   \n",
       "3                                      0                            0   \n",
       "4                                      0                            0   \n",
       "\n",
       "   paymentMethodType_bitcoin  paymentMethodType_card  \\\n",
       "0                          0                       1   \n",
       "1                          1                       0   \n",
       "2                          0                       1   \n",
       "3                          0                       1   \n",
       "4                          0                       1   \n",
       "\n",
       "   paymentMethodType_paypal  paymentMethodProvider_American Express  \\\n",
       "0                         0                                       0   \n",
       "1                         0                                       0   \n",
       "2                         0                                       0   \n",
       "3                         0                                       0   \n",
       "4                         0                                       0   \n",
       "\n",
       "   paymentMethodProvider_Diners Club / Carte Blanche  \\\n",
       "0                                                  0   \n",
       "1                                                  0   \n",
       "2                                                  0   \n",
       "3                                                  1   \n",
       "4                                                  0   \n",
       "\n",
       "   paymentMethodProvider_Discover  paymentMethodProvider_JCB 15 digit  \\\n",
       "0                               0                                   0   \n",
       "1                               0                                   0   \n",
       "2                               0                                   0   \n",
       "3                               0                                   0   \n",
       "4                               0                                   0   \n",
       "\n",
       "   paymentMethodProvider_JCB 16 digit  paymentMethodProvider_Maestro  \\\n",
       "0                                   1                              0   \n",
       "1                                   0                              0   \n",
       "2                                   0                              0   \n",
       "3                                   0                              0   \n",
       "4                                   0                              0   \n",
       "\n",
       "   paymentMethodProvider_Mastercard  paymentMethodProvider_VISA 13 digit  \\\n",
       "0                                 0                                    0   \n",
       "1                                 0                                    0   \n",
       "2                                 0                                    0   \n",
       "3                                 0                                    0   \n",
       "4                                 1                                    0   \n",
       "\n",
       "   paymentMethodProvider_VISA 16 digit  paymentMethodProvider_Voyager  \\\n",
       "0                                    0                              0   \n",
       "1                                    1                              0   \n",
       "2                                    1                              0   \n",
       "3                                    0                              0   \n",
       "4                                    0                              0   \n",
       "\n",
       "   paymentMethodIssuer_Bastion Banks  paymentMethodIssuer_Bulwark Trust Corp.  \\\n",
       "0                                  0                                        0   \n",
       "1                                  0                                        0   \n",
       "2                                  0                                        0   \n",
       "3                                  0                                        0   \n",
       "4                                  0                                        0   \n",
       "\n",
       "   paymentMethodIssuer_Citizens First Banks  \\\n",
       "0                                         1   \n",
       "1                                         0   \n",
       "2                                         0   \n",
       "3                                         0   \n",
       "4                                         0   \n",
       "\n",
       "   paymentMethodIssuer_Fountain Financial Inc.  \\\n",
       "0                                            0   \n",
       "1                                            0   \n",
       "2                                            0   \n",
       "3                                            0   \n",
       "4                                            0   \n",
       "\n",
       "   paymentMethodIssuer_Grand Credit Corporation  \\\n",
       "0                                             0   \n",
       "1                                             0   \n",
       "2                                             0   \n",
       "3                                             0   \n",
       "4                                             0   \n",
       "\n",
       "   paymentMethodIssuer_Her Majesty Trust  \\\n",
       "0                                      0   \n",
       "1                                      0   \n",
       "2                                      0   \n",
       "3                                      0   \n",
       "4                                      0   \n",
       "\n",
       "   paymentMethodIssuer_His Majesty Bank Corp.  \\\n",
       "0                                           0   \n",
       "1                                           0   \n",
       "2                                           0   \n",
       "3                                           1   \n",
       "4                                           0   \n",
       "\n",
       "   paymentMethodIssuer_Rose Bancshares  paymentMethodIssuer_Solace Banks  \\\n",
       "0                                    0                                 0   \n",
       "1                                    0                                 1   \n",
       "2                                    0                                 0   \n",
       "3                                    0                                 0   \n",
       "4                                    0                                 0   \n",
       "\n",
       "   paymentMethodIssuer_Vertex Bancorp  paymentMethodIssuer_weird  \\\n",
       "0                                   0                          0   \n",
       "1                                   0                          0   \n",
       "2                                   1                          0   \n",
       "3                                   0                          0   \n",
       "4                                   1                          0   \n",
       "\n",
       "   transactionAmount_(9.999, 21.0]  transactionAmount_(21.0, 34.0]  \\\n",
       "0                                1                               0   \n",
       "1                                0                               1   \n",
       "2                                0                               0   \n",
       "3                                0                               1   \n",
       "4                                0                               0   \n",
       "\n",
       "   transactionAmount_(34.0, 45.0]  transactionAmount_(45.0, 75.0]  \\\n",
       "0                               0                               0   \n",
       "1                               0                               0   \n",
       "2                               1                               0   \n",
       "3                               0                               0   \n",
       "4                               1                               0   \n",
       "\n",
       "   emailDomain_biz  emailDomain_com  emailDomain_info  emailDomain_net  \\\n",
       "0                0                1                 0                0   \n",
       "1                0                1                 0                0   \n",
       "2                0                1                 0                0   \n",
       "3                0                1                 0                0   \n",
       "4                0                1                 0                0   \n",
       "\n",
       "   emailDomain_org  emailDomain_weird  emailProvider_gmail  \\\n",
       "0                0                  0                    0   \n",
       "1                0                  0                    0   \n",
       "2                0                  0                    0   \n",
       "3                0                  0                    0   \n",
       "4                0                  0                    0   \n",
       "\n",
       "   emailProvider_hotmail  emailProvider_other  emailProvider_weird  \\\n",
       "0                      0                    0                    0   \n",
       "1                      0                    0                    0   \n",
       "2                      0                    0                    0   \n",
       "3                      0                    0                    0   \n",
       "4                      0                    1                    0   \n",
       "\n",
       "   emailProvider_yahoo  customerIPAddressSimplified_digits_and_letters  \\\n",
       "0                    1                                               0   \n",
       "1                    1                                               0   \n",
       "2                    1                                               1   \n",
       "3                    1                                               1   \n",
       "4                    0                                               0   \n",
       "\n",
       "   customerIPAddressSimplified_only_letters  sameCity_no  sameCity_unknown  \\\n",
       "0                                         1            0                 0   \n",
       "1                                         1            1                 0   \n",
       "2                                         0            1                 0   \n",
       "3                                         0            1                 0   \n",
       "4                                         1            1                 0   \n",
       "\n",
       "   sameCity_yes  \n",
       "0             1  \n",
       "1             0  \n",
       "2             0  \n",
       "3             0  \n",
       "4             0  "
      ]
     },
     "execution_count": 28,
     "metadata": {},
     "output_type": "execute_result"
    }
   ],
   "source": [
    "pd.set_option('display.max_columns', None)\n",
    "data.head(5)"
   ]
  },
  {
   "cell_type": "code",
   "execution_count": 29,
   "metadata": {},
   "outputs": [],
   "source": [
    "pd.reset_option('display.max_columns')"
   ]
  },
  {
   "cell_type": "code",
   "execution_count": 30,
   "metadata": {},
   "outputs": [
    {
     "data": {
      "text/plain": [
       "Index(['transactionFailed', 'fraudulent', 'orderAmount_(9.999, 18.2]',\n",
       "       'orderAmount_(18.2, 30.0]', 'orderAmount_(30.0, 39.0]',\n",
       "       'orderAmount_(39.0, 47.0]', 'orderAmount_(47.0, 75.0]',\n",
       "       'orderAmount_desconocido', 'orderState_failed', 'orderState_fulfilled',\n",
       "       'orderState_pending', 'paymentMethodRegistrationFailure_False',\n",
       "       'paymentMethodRegistrationFailure_True', 'paymentMethodType_apple pay',\n",
       "       'paymentMethodType_bitcoin', 'paymentMethodType_card',\n",
       "       'paymentMethodType_paypal', 'paymentMethodProvider_American Express',\n",
       "       'paymentMethodProvider_Diners Club / Carte Blanche',\n",
       "       'paymentMethodProvider_Discover', 'paymentMethodProvider_JCB 15 digit',\n",
       "       'paymentMethodProvider_JCB 16 digit', 'paymentMethodProvider_Maestro',\n",
       "       'paymentMethodProvider_Mastercard',\n",
       "       'paymentMethodProvider_VISA 13 digit',\n",
       "       'paymentMethodProvider_VISA 16 digit', 'paymentMethodProvider_Voyager',\n",
       "       'paymentMethodIssuer_Bastion Banks',\n",
       "       'paymentMethodIssuer_Bulwark Trust Corp.',\n",
       "       'paymentMethodIssuer_Citizens First Banks',\n",
       "       'paymentMethodIssuer_Fountain Financial Inc.',\n",
       "       'paymentMethodIssuer_Grand Credit Corporation',\n",
       "       'paymentMethodIssuer_Her Majesty Trust',\n",
       "       'paymentMethodIssuer_His Majesty Bank Corp.',\n",
       "       'paymentMethodIssuer_Rose Bancshares',\n",
       "       'paymentMethodIssuer_Solace Banks',\n",
       "       'paymentMethodIssuer_Vertex Bancorp', 'paymentMethodIssuer_weird',\n",
       "       'transactionAmount_(9.999, 21.0]', 'transactionAmount_(21.0, 34.0]',\n",
       "       'transactionAmount_(34.0, 45.0]', 'transactionAmount_(45.0, 75.0]',\n",
       "       'emailDomain_biz', 'emailDomain_com', 'emailDomain_info',\n",
       "       'emailDomain_net', 'emailDomain_org', 'emailDomain_weird',\n",
       "       'emailProvider_gmail', 'emailProvider_hotmail', 'emailProvider_other',\n",
       "       'emailProvider_weird', 'emailProvider_yahoo',\n",
       "       'customerIPAddressSimplified_digits_and_letters',\n",
       "       'customerIPAddressSimplified_only_letters', 'sameCity_no',\n",
       "       'sameCity_unknown', 'sameCity_yes'],\n",
       "      dtype='object')"
      ]
     },
     "execution_count": 30,
     "metadata": {},
     "output_type": "execute_result"
    }
   ],
   "source": [
    "# Para este momento me di cuenta que nunca habia borrado la columna email\n",
    "# Procedi a borrarla y volver a correr todos los notebook (con el riesgo de stroke que eso conlleva)\n",
    "# Pero todo salio bien 🏌🏻 creo...\n",
    "data.columns"
   ]
  },
  {
   "cell_type": "code",
   "execution_count": 31,
   "metadata": {},
   "outputs": [],
   "source": [
    "import mlflow.sklearn"
   ]
  },
  {
   "cell_type": "markdown",
   "metadata": {},
   "source": [
    "#### Le asignamos un nombre al experimento"
   ]
  },
  {
   "cell_type": "code",
   "execution_count": 32,
   "metadata": {},
   "outputs": [
    {
     "name": "stdout",
     "output_type": "stream",
     "text": [
      "(623, 58)\n"
     ]
    }
   ],
   "source": [
    "mlflow.set_experiment(experiment_name=\"proyecto_bootcamp_final\")\n",
    "mlflow.log_param(\"Tamaño dataset\", data.shape)\n",
    "print(data.shape)"
   ]
  },
  {
   "cell_type": "markdown",
   "metadata": {},
   "source": [
    "# 3) Clasificación 🎯\n"
   ]
  },
  {
   "cell_type": "markdown",
   "metadata": {},
   "source": [
    "## 3.1) Separación de X de Y, y luego TR de TS (rutina):"
   ]
  },
  {
   "cell_type": "code",
   "execution_count": 33,
   "metadata": {},
   "outputs": [],
   "source": [
    "data_x = data.drop('fraudulent', axis=1)\n",
    "data_y = data['fraudulent']"
   ]
  },
  {
   "cell_type": "code",
   "execution_count": 34,
   "metadata": {},
   "outputs": [],
   "source": [
    "data_x = data_x.values\n",
    "data_y = data_y.values"
   ]
  },
  {
   "cell_type": "code",
   "execution_count": 35,
   "metadata": {},
   "outputs": [
    {
     "data": {
      "text/plain": [
       "0.3"
      ]
     },
     "execution_count": 35,
     "metadata": {},
     "output_type": "execute_result"
    }
   ],
   "source": [
    "# Consideren `test_size=0.3`\n",
    "TEST_SIZE = 0.3\n",
    "mlflow.log_param(\"Porcentaje de test\", TEST_SIZE)"
   ]
  },
  {
   "cell_type": "code",
   "execution_count": 36,
   "metadata": {},
   "outputs": [],
   "source": [
    "from sklearn.model_selection import train_test_split\n",
    "\n",
    "x_train, x_test, y_train, y_test = train_test_split(data_x, data_y, test_size=TEST_SIZE)"
   ]
  },
  {
   "cell_type": "markdown",
   "metadata": {},
   "source": [
    "## 3.2) Creación del modelo predictivo"
   ]
  },
  {
   "cell_type": "code",
   "execution_count": 37,
   "metadata": {},
   "outputs": [
    {
     "data": {
      "text/plain": [
       "99"
      ]
     },
     "execution_count": 37,
     "metadata": {},
     "output_type": "execute_result"
    }
   ],
   "source": [
    "# Consideren `n_estimators=500` y `random_state=99`\n",
    "NUM_ESTIMATORS = 500\n",
    "RANDOM_STATE = 99\n",
    "mlflow.log_param(\"Número de estimadores\", NUM_ESTIMATORS)\n",
    "mlflow.log_param(\"Valor semilla\", RANDOM_STATE)"
   ]
  },
  {
   "cell_type": "code",
   "execution_count": 38,
   "metadata": {},
   "outputs": [],
   "source": [
    "from sklearn.ensemble import RandomForestClassifier \n",
    "rf = RandomForestClassifier(n_estimators = NUM_ESTIMATORS, random_state = RANDOM_STATE)"
   ]
  },
  {
   "cell_type": "code",
   "execution_count": 39,
   "metadata": {},
   "outputs": [
    {
     "data": {
      "text/html": [
       "<style>#sk-container-id-2 {color: black;}#sk-container-id-2 pre{padding: 0;}#sk-container-id-2 div.sk-toggleable {background-color: white;}#sk-container-id-2 label.sk-toggleable__label {cursor: pointer;display: block;width: 100%;margin-bottom: 0;padding: 0.3em;box-sizing: border-box;text-align: center;}#sk-container-id-2 label.sk-toggleable__label-arrow:before {content: \"▸\";float: left;margin-right: 0.25em;color: #696969;}#sk-container-id-2 label.sk-toggleable__label-arrow:hover:before {color: black;}#sk-container-id-2 div.sk-estimator:hover label.sk-toggleable__label-arrow:before {color: black;}#sk-container-id-2 div.sk-toggleable__content {max-height: 0;max-width: 0;overflow: hidden;text-align: left;background-color: #f0f8ff;}#sk-container-id-2 div.sk-toggleable__content pre {margin: 0.2em;color: black;border-radius: 0.25em;background-color: #f0f8ff;}#sk-container-id-2 input.sk-toggleable__control:checked~div.sk-toggleable__content {max-height: 200px;max-width: 100%;overflow: auto;}#sk-container-id-2 input.sk-toggleable__control:checked~label.sk-toggleable__label-arrow:before {content: \"▾\";}#sk-container-id-2 div.sk-estimator input.sk-toggleable__control:checked~label.sk-toggleable__label {background-color: #d4ebff;}#sk-container-id-2 div.sk-label input.sk-toggleable__control:checked~label.sk-toggleable__label {background-color: #d4ebff;}#sk-container-id-2 input.sk-hidden--visually {border: 0;clip: rect(1px 1px 1px 1px);clip: rect(1px, 1px, 1px, 1px);height: 1px;margin: -1px;overflow: hidden;padding: 0;position: absolute;width: 1px;}#sk-container-id-2 div.sk-estimator {font-family: monospace;background-color: #f0f8ff;border: 1px dotted black;border-radius: 0.25em;box-sizing: border-box;margin-bottom: 0.5em;}#sk-container-id-2 div.sk-estimator:hover {background-color: #d4ebff;}#sk-container-id-2 div.sk-parallel-item::after {content: \"\";width: 100%;border-bottom: 1px solid gray;flex-grow: 1;}#sk-container-id-2 div.sk-label:hover label.sk-toggleable__label {background-color: #d4ebff;}#sk-container-id-2 div.sk-serial::before {content: \"\";position: absolute;border-left: 1px solid gray;box-sizing: border-box;top: 0;bottom: 0;left: 50%;z-index: 0;}#sk-container-id-2 div.sk-serial {display: flex;flex-direction: column;align-items: center;background-color: white;padding-right: 0.2em;padding-left: 0.2em;position: relative;}#sk-container-id-2 div.sk-item {position: relative;z-index: 1;}#sk-container-id-2 div.sk-parallel {display: flex;align-items: stretch;justify-content: center;background-color: white;position: relative;}#sk-container-id-2 div.sk-item::before, #sk-container-id-2 div.sk-parallel-item::before {content: \"\";position: absolute;border-left: 1px solid gray;box-sizing: border-box;top: 0;bottom: 0;left: 50%;z-index: -1;}#sk-container-id-2 div.sk-parallel-item {display: flex;flex-direction: column;z-index: 1;position: relative;background-color: white;}#sk-container-id-2 div.sk-parallel-item:first-child::after {align-self: flex-end;width: 50%;}#sk-container-id-2 div.sk-parallel-item:last-child::after {align-self: flex-start;width: 50%;}#sk-container-id-2 div.sk-parallel-item:only-child::after {width: 0;}#sk-container-id-2 div.sk-dashed-wrapped {border: 1px dashed gray;margin: 0 0.4em 0.5em 0.4em;box-sizing: border-box;padding-bottom: 0.4em;background-color: white;}#sk-container-id-2 div.sk-label label {font-family: monospace;font-weight: bold;display: inline-block;line-height: 1.2em;}#sk-container-id-2 div.sk-label-container {text-align: center;}#sk-container-id-2 div.sk-container {/* jupyter's `normalize.less` sets `[hidden] { display: none; }` but bootstrap.min.css set `[hidden] { display: none !important; }` so we also need the `!important` here to be able to override the default hidden behavior on the sphinx rendered scikit-learn.org. See: https://github.com/scikit-learn/scikit-learn/issues/21755 */display: inline-block !important;position: relative;}#sk-container-id-2 div.sk-text-repr-fallback {display: none;}</style><div id=\"sk-container-id-2\" class=\"sk-top-container\"><div class=\"sk-text-repr-fallback\"><pre>RandomForestClassifier(n_estimators=500, random_state=99)</pre><b>In a Jupyter environment, please rerun this cell to show the HTML representation or trust the notebook. <br />On GitHub, the HTML representation is unable to render, please try loading this page with nbviewer.org.</b></div><div class=\"sk-container\" hidden><div class=\"sk-item\"><div class=\"sk-estimator sk-toggleable\"><input class=\"sk-toggleable__control sk-hidden--visually\" id=\"sk-estimator-id-2\" type=\"checkbox\" checked><label for=\"sk-estimator-id-2\" class=\"sk-toggleable__label sk-toggleable__label-arrow\">RandomForestClassifier</label><div class=\"sk-toggleable__content\"><pre>RandomForestClassifier(n_estimators=500, random_state=99)</pre></div></div></div></div></div>"
      ],
      "text/plain": [
       "RandomForestClassifier(n_estimators=500, random_state=99)"
      ]
     },
     "execution_count": 39,
     "metadata": {},
     "output_type": "execute_result"
    }
   ],
   "source": [
    "rf.fit(x_train, y_train)"
   ]
  },
  {
   "cell_type": "markdown",
   "metadata": {},
   "source": [
    "## 3.4) Matriz de confusión"
   ]
  },
  {
   "cell_type": "markdown",
   "metadata": {},
   "source": [
    "### a) Valores absolutos:"
   ]
  },
  {
   "cell_type": "code",
   "execution_count": 40,
   "metadata": {},
   "outputs": [
    {
     "data": {
      "text/plain": [
       "<sklearn.metrics._plot.confusion_matrix.ConfusionMatrixDisplay at 0x7f11688109d0>"
      ]
     },
     "execution_count": 40,
     "metadata": {},
     "output_type": "execute_result"
    },
    {
     "data": {
      "image/png": "[encoded data removed]",
      "text/plain": [
       "<Figure size 640x480 with 2 Axes>"
      ]
     },
     "metadata": {},
     "output_type": "display_data"
    }
   ],
   "source": [
    "from sklearn.metrics import ConfusionMatrixDisplay\n",
    "ConfusionMatrixDisplay.from_estimator(\n",
    "    rf, x_train, y_train,\n",
    "    display_labels=['false','true', 'warning'],\n",
    "    cmap='Reds',\n",
    "    )"
   ]
  },
  {
   "cell_type": "code",
   "execution_count": 41,
   "metadata": {},
   "outputs": [],
   "source": [
    "# Resultado de Carlos\n",
    "# False 78\n",
    "# True 44\n",
    "# Warning 314"
   ]
  },
  {
   "cell_type": "markdown",
   "metadata": {},
   "source": [
    "### e) ¡Importante! Elección de un punto de corte"
   ]
  },
  {
   "cell_type": "markdown",
   "metadata": {},
   "source": [
    "*Aclaración:* Justo todos los pasos que hacíamos de acá en adelante, están pensados para una clasificación binaria.\n",
    "<br>Para este caso que es multiclase, no tiene sentido, *por eso no los hacemos.*"
   ]
  },
  {
   "cell_type": "markdown",
   "metadata": {},
   "source": [
    "# 4) Guardar un modelo"
   ]
  },
  {
   "cell_type": "code",
   "execution_count": 42,
   "metadata": {},
   "outputs": [],
   "source": [
    "import pickle\n",
    "\n",
    "filename = 'data/modelo_proyecto_final.pkl'\n",
    "pickle.dump(rf, open(filename, 'wb'))"
   ]
  },
  {
   "cell_type": "code",
   "execution_count": 43,
   "metadata": {},
   "outputs": [],
   "source": [
    "# Lo cargamos para ver si funciona\n",
    "rf_loaded = pickle.load(open(filename, 'rb'))"
   ]
  },
  {
   "cell_type": "code",
   "execution_count": 44,
   "metadata": {},
   "outputs": [
    {
     "data": {
      "text/plain": [
       "<mlflow.models.model.ModelInfo at 0x7f115dd4f940>"
      ]
     },
     "execution_count": 44,
     "metadata": {},
     "output_type": "execute_result"
    }
   ],
   "source": [
    "mlflow.sklearn.log_model(rf, \"modelo_proyecto_final\")"
   ]
  },
  {
   "cell_type": "markdown",
   "metadata": {},
   "source": [
    "# 9) Validacion"
   ]
  },
  {
   "cell_type": "code",
   "execution_count": 45,
   "metadata": {},
   "outputs": [],
   "source": [
    "# En training\n",
    "pred_tr=rf.predict(x_train)\n",
    "\n",
    "# En testing\n",
    "pred_ts=rf.predict(x_test)"
   ]
  },
  {
   "cell_type": "markdown",
   "metadata": {},
   "source": [
    "## 9.1) Validamos Training"
   ]
  },
  {
   "cell_type": "code",
   "execution_count": 46,
   "metadata": {},
   "outputs": [
    {
     "data": {
      "text/plain": [
       "1.0"
      ]
     },
     "execution_count": 46,
     "metadata": {},
     "output_type": "execute_result"
    }
   ],
   "source": [
    "df_val_tr=pd.DataFrame({'y_train':y_train, 'pred_tr':pred_tr})\n",
    "\n",
    "# ¿cuántos aciertos?\n",
    "sum(df_val_tr.y_train==df_val_tr.pred_tr)/len(df_val_tr)"
   ]
  },
  {
   "cell_type": "code",
   "execution_count": 47,
   "metadata": {},
   "outputs": [],
   "source": [
    "from sklearn.metrics import accuracy_score"
   ]
  },
  {
   "cell_type": "code",
   "execution_count": 48,
   "metadata": {},
   "outputs": [
    {
     "name": "stdout",
     "output_type": "stream",
     "text": [
      "1.0\n"
     ]
    }
   ],
   "source": [
    "accuracy_train = accuracy_score(df_val_tr.y_train, df_val_tr.pred_tr, normalize=True)\n",
    "print(accuracy_train)"
   ]
  },
  {
   "cell_type": "code",
   "execution_count": 49,
   "metadata": {},
   "outputs": [],
   "source": [
    "mlflow.log_metric(\"Accuracy en Train\", accuracy_train)"
   ]
  },
  {
   "cell_type": "markdown",
   "metadata": {},
   "source": [
    "## 9.2) Validamos Testing"
   ]
  },
  {
   "cell_type": "code",
   "execution_count": 50,
   "metadata": {},
   "outputs": [],
   "source": [
    "df_val_ts=pd.DataFrame({'y_test':y_test, 'pred_ts':pred_ts})"
   ]
  },
  {
   "cell_type": "code",
   "execution_count": 51,
   "metadata": {},
   "outputs": [
    {
     "name": "stdout",
     "output_type": "stream",
     "text": [
      "0.9090909090909091\n"
     ]
    }
   ],
   "source": [
    "# ¿cuántos aciertos?\n",
    "accuracy_test = accuracy_score(df_val_ts.y_test, df_val_ts.pred_ts, normalize=True)\n",
    "print(accuracy_test)"
   ]
  },
  {
   "cell_type": "code",
   "execution_count": 52,
   "metadata": {},
   "outputs": [],
   "source": [
    "mlflow.log_metric(\"Accuracy en Test\", accuracy_test)"
   ]
  },
  {
   "cell_type": "markdown",
   "metadata": {},
   "source": [
    "# Fin de la primera parte"
   ]
  },
  {
   "cell_type": "markdown",
   "metadata": {},
   "source": [
    "![](https://media.giphy.com/media/3orieWFUp9Dyo5ZE40/giphy.gif)"
   ]
  }
 ],
 "metadata": {
  "kernelspec": {
   "display_name": "my_env",
   "language": "python",
   "name": "python3"
  },
  "language_info": {
   "codemirror_mode": {
    "name": "ipython",
    "version": 3
   },
   "file_extension": ".py",
   "mimetype": "text/x-python",
   "name": "python",
   "nbconvert_exporter": "python",
   "pygments_lexer": "ipython3",
   "version": "3.10.12"
  },
  "orig_nbformat": 4
 },
 "nbformat": 4,
 "nbformat_minor": 2
}
